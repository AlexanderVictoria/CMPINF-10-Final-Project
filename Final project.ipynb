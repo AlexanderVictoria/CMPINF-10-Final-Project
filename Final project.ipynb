{
 "cells": [
  {
   "cell_type": "code",
   "execution_count": null,
   "id": "9f2031bc-24f1-4f76-a0e0-8a358464e372",
   "metadata": {},
   "outputs": [],
   "source": [
    " item_dict = {}\n",
    "for i in range(len(chip)):\n",
    "    row = chip.iloc[i]\n",
    "    name = row['item_name']\n",
    "    quantity = row['quantity']\n",
    "\n",
    "if name in item_dict:\n",
    "    item_dict[name]+=quantity\n",
    "else: item_dict[name] = quantity\n",
    "print(item_dict)"
   ]
  }
 ],
 "metadata": {
  "kernelspec": {
   "display_name": "Python 3 (ipykernel)",
   "language": "python",
   "name": "python3"
  },
  "language_info": {
   "codemirror_mode": {
    "name": "ipython",
    "version": 3
   },
   "file_extension": ".py",
   "mimetype": "text/x-python",
   "name": "python",
   "nbconvert_exporter": "python",
   "pygments_lexer": "ipython3",
   "version": "3.12.4"
  }
 },
 "nbformat": 4,
 "nbformat_minor": 5
}
