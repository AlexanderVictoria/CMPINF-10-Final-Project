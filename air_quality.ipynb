{
 "cells": [
  {
   "cell_type": "markdown",
   "metadata": {},
   "source": [
    "# Analyzing Air Quality"
   ]
  },
  {
   "cell_type": "markdown",
   "metadata": {},
   "source": [
    "### Import Libraries"
   ]
  },
  {
   "cell_type": "code",
   "execution_count": 69,
   "metadata": {},
   "outputs": [],
   "source": [
    "import pandas as pd"
   ]
  },
  {
   "cell_type": "markdown",
   "metadata": {},
   "source": [
    "### Load and Process Data"
   ]
  },
  {
   "cell_type": "code",
   "execution_count": 70,
   "metadata": {},
   "outputs": [
    {
     "data": {
      "text/html": [
       "<div>\n",
       "<style scoped>\n",
       "    .dataframe tbody tr th:only-of-type {\n",
       "        vertical-align: middle;\n",
       "    }\n",
       "\n",
       "    .dataframe tbody tr th {\n",
       "        vertical-align: top;\n",
       "    }\n",
       "\n",
       "    .dataframe thead th {\n",
       "        text-align: right;\n",
       "    }\n",
       "</style>\n",
       "<table border=\"1\" class=\"dataframe\">\n",
       "  <thead>\n",
       "    <tr style=\"text-align: right;\">\n",
       "      <th></th>\n",
       "      <th>_id</th>\n",
       "      <th>date</th>\n",
       "      <th>site</th>\n",
       "      <th>parameter</th>\n",
       "      <th>index_value</th>\n",
       "      <th>description</th>\n",
       "      <th>health_advisory</th>\n",
       "      <th>health_effects</th>\n",
       "    </tr>\n",
       "  </thead>\n",
       "  <tbody>\n",
       "    <tr>\n",
       "      <th>49524</th>\n",
       "      <td>51022</td>\n",
       "      <td>2022-02-05</td>\n",
       "      <td>Lawrenceville 2</td>\n",
       "      <td>CO</td>\n",
       "      <td>3</td>\n",
       "      <td>Good</td>\n",
       "      <td>NaN</td>\n",
       "      <td>NaN</td>\n",
       "    </tr>\n",
       "    <tr>\n",
       "      <th>70099</th>\n",
       "      <td>81801</td>\n",
       "      <td>2024-09-09</td>\n",
       "      <td>North Braddock</td>\n",
       "      <td>SO2</td>\n",
       "      <td>14</td>\n",
       "      <td>Good</td>\n",
       "      <td>NaN</td>\n",
       "      <td>NaN</td>\n",
       "    </tr>\n",
       "    <tr>\n",
       "      <th>22784</th>\n",
       "      <td>22785</td>\n",
       "      <td>2018-10-24</td>\n",
       "      <td>North Braddock</td>\n",
       "      <td>SO2</td>\n",
       "      <td>0</td>\n",
       "      <td>Good</td>\n",
       "      <td>NaN</td>\n",
       "      <td>NaN</td>\n",
       "    </tr>\n",
       "    <tr>\n",
       "      <th>64523</th>\n",
       "      <td>75520</td>\n",
       "      <td>2023-12-29</td>\n",
       "      <td>Lawrenceville 2</td>\n",
       "      <td>CO</td>\n",
       "      <td>2</td>\n",
       "      <td>Good</td>\n",
       "      <td>NaN</td>\n",
       "      <td>NaN</td>\n",
       "    </tr>\n",
       "    <tr>\n",
       "      <th>24986</th>\n",
       "      <td>24987</td>\n",
       "      <td>2019-01-29</td>\n",
       "      <td>Lawrenceville</td>\n",
       "      <td>PM25B</td>\n",
       "      <td>53</td>\n",
       "      <td>Moderate</td>\n",
       "      <td>Unusually sensitive people should consider red...</td>\n",
       "      <td>Respiratory symptoms possible in unusually sen...</td>\n",
       "    </tr>\n",
       "  </tbody>\n",
       "</table>\n",
       "</div>"
      ],
      "text/plain": [
       "         _id        date             site parameter  index_value description  \\\n",
       "49524  51022  2022-02-05  Lawrenceville 2        CO            3        Good   \n",
       "70099  81801  2024-09-09   North Braddock       SO2           14        Good   \n",
       "22784  22785  2018-10-24   North Braddock       SO2            0        Good   \n",
       "64523  75520  2023-12-29  Lawrenceville 2        CO            2        Good   \n",
       "24986  24987  2019-01-29    Lawrenceville     PM25B           53    Moderate   \n",
       "\n",
       "                                         health_advisory  \\\n",
       "49524                                                NaN   \n",
       "70099                                                NaN   \n",
       "22784                                                NaN   \n",
       "64523                                                NaN   \n",
       "24986  Unusually sensitive people should consider red...   \n",
       "\n",
       "                                          health_effects  \n",
       "49524                                                NaN  \n",
       "70099                                                NaN  \n",
       "22784                                                NaN  \n",
       "64523                                                NaN  \n",
       "24986  Respiratory symptoms possible in unusually sen...  "
      ]
     },
     "execution_count": 70,
     "metadata": {},
     "output_type": "execute_result"
    }
   ],
   "source": [
    "aqi_data = pd.read_csv(\"air_quality_data.csv\")\n",
    "aqi_data.sample(5)"
   ]
  },
  {
   "cell_type": "code",
   "execution_count": 71,
   "metadata": {},
   "outputs": [
    {
     "data": {
      "text/html": [
       "<div>\n",
       "<style scoped>\n",
       "    .dataframe tbody tr th:only-of-type {\n",
       "        vertical-align: middle;\n",
       "    }\n",
       "\n",
       "    .dataframe tbody tr th {\n",
       "        vertical-align: top;\n",
       "    }\n",
       "\n",
       "    .dataframe thead th {\n",
       "        text-align: right;\n",
       "    }\n",
       "</style>\n",
       "<table border=\"1\" class=\"dataframe\">\n",
       "  <thead>\n",
       "    <tr style=\"text-align: right;\">\n",
       "      <th></th>\n",
       "      <th>site</th>\n",
       "      <th>parameter</th>\n",
       "      <th>index_value</th>\n",
       "      <th>description</th>\n",
       "    </tr>\n",
       "  </thead>\n",
       "  <tbody>\n",
       "    <tr>\n",
       "      <th>36297</th>\n",
       "      <td>South Fayette</td>\n",
       "      <td>SO2</td>\n",
       "      <td>1</td>\n",
       "      <td>Good</td>\n",
       "    </tr>\n",
       "    <tr>\n",
       "      <th>70728</th>\n",
       "      <td>Glassport High Street</td>\n",
       "      <td>PM10</td>\n",
       "      <td>20</td>\n",
       "      <td>Good</td>\n",
       "    </tr>\n",
       "    <tr>\n",
       "      <th>10115</th>\n",
       "      <td>Lawrenceville</td>\n",
       "      <td>PM25B</td>\n",
       "      <td>40</td>\n",
       "      <td>Good</td>\n",
       "    </tr>\n",
       "    <tr>\n",
       "      <th>3316</th>\n",
       "      <td>Parkway East</td>\n",
       "      <td>NO2</td>\n",
       "      <td>17</td>\n",
       "      <td>Good</td>\n",
       "    </tr>\n",
       "    <tr>\n",
       "      <th>8470</th>\n",
       "      <td>Lawrenceville 2</td>\n",
       "      <td>SO2</td>\n",
       "      <td>1</td>\n",
       "      <td>Good</td>\n",
       "    </tr>\n",
       "  </tbody>\n",
       "</table>\n",
       "</div>"
      ],
      "text/plain": [
       "                        site parameter  index_value description\n",
       "36297          South Fayette       SO2            1        Good\n",
       "70728  Glassport High Street      PM10           20        Good\n",
       "10115          Lawrenceville     PM25B           40        Good\n",
       "3316            Parkway East       NO2           17        Good\n",
       "8470         Lawrenceville 2       SO2            1        Good"
      ]
     },
     "execution_count": 71,
     "metadata": {},
     "output_type": "execute_result"
    }
   ],
   "source": [
    "aqi_data_processed = aqi_data[[\"site\", \"parameter\", \"index_value\", \"description\"]]\n",
    "aqi_data_processed.sample(5)"
   ]
  },
  {
   "cell_type": "code",
   "execution_count": 72,
   "metadata": {},
   "outputs": [
    {
     "data": {
      "text/plain": [
       "array(['Lawrenceville', 'Flag Plaza', 'Harrison Township', 'Avalon',\n",
       "       'Lincoln', 'South Fayette', 'North Braddock', 'Parkway East',\n",
       "       'Liberty 2', 'Lawrenceville 2', 'Glassport High Street', 'Liberty',\n",
       "       'Clairton', 'West Mifflin', 'Pittsburgh'], dtype=object)"
      ]
     },
     "execution_count": 72,
     "metadata": {},
     "output_type": "execute_result"
    }
   ],
   "source": [
    "# unique neighborhoods specified in the dataset\n",
    "aqi_data_processed[\"site\"].unique()"
   ]
  },
  {
   "cell_type": "code",
   "execution_count": 73,
   "metadata": {},
   "outputs": [
    {
     "data": {
      "text/plain": [
       "array(['PM25B', 'CO', 'OZONE', 'SO2', 'PM25', 'PM10', 'PM10B', 'PM25(2)',\n",
       "       'NO2', 'PM25T', 'PM25_640', 'PM10_640', 'NO2_500', 'NO2_200'],\n",
       "      dtype=object)"
      ]
     },
     "execution_count": 73,
     "metadata": {},
     "output_type": "execute_result"
    }
   ],
   "source": [
    "# unique parameters used to determine airquality\n",
    "aqi_data_processed[\"parameter\"].unique()"
   ]
  },
  {
   "cell_type": "code",
   "execution_count": 74,
   "metadata": {},
   "outputs": [
    {
     "data": {
      "text/plain": [
       "array(['Good', 'Moderate', 'Unhealthy for Sensitive Groups', 'Unhealthy',\n",
       "       'Very Unhealthy'], dtype=object)"
      ]
     },
     "execution_count": 74,
     "metadata": {},
     "output_type": "execute_result"
    }
   ],
   "source": [
    "# unique air quality descriptions\n",
    "aqi_data_processed[\"description\"].unique()"
   ]
  },
  {
   "cell_type": "markdown",
   "metadata": {},
   "source": [
    "#### Concerns\n",
    "\n",
    "* Not many neighborhoods are included from the general Pittsburgh area.\n",
    "* Different parameters are used to identify air quality"
   ]
  },
  {
   "cell_type": "markdown",
   "metadata": {},
   "source": [
    "### Identifying Patterns"
   ]
  },
  {
   "cell_type": "code",
   "execution_count": 75,
   "metadata": {},
   "outputs": [
    {
     "data": {
      "text/html": [
       "<div>\n",
       "<style scoped>\n",
       "    .dataframe tbody tr th:only-of-type {\n",
       "        vertical-align: middle;\n",
       "    }\n",
       "\n",
       "    .dataframe tbody tr th {\n",
       "        vertical-align: top;\n",
       "    }\n",
       "\n",
       "    .dataframe thead th {\n",
       "        text-align: right;\n",
       "    }\n",
       "</style>\n",
       "<table border=\"1\" class=\"dataframe\">\n",
       "  <thead>\n",
       "    <tr style=\"text-align: right;\">\n",
       "      <th></th>\n",
       "      <th>site</th>\n",
       "      <th>parameter</th>\n",
       "      <th>index_value</th>\n",
       "      <th>description</th>\n",
       "    </tr>\n",
       "  </thead>\n",
       "  <tbody>\n",
       "    <tr>\n",
       "      <th>27482</th>\n",
       "      <td>Lawrenceville</td>\n",
       "      <td>OZONE</td>\n",
       "      <td>26</td>\n",
       "      <td>Good</td>\n",
       "    </tr>\n",
       "    <tr>\n",
       "      <th>40780</th>\n",
       "      <td>Lawrenceville</td>\n",
       "      <td>OZONE</td>\n",
       "      <td>26</td>\n",
       "      <td>Good</td>\n",
       "    </tr>\n",
       "    <tr>\n",
       "      <th>40795</th>\n",
       "      <td>Lawrenceville</td>\n",
       "      <td>OZONE</td>\n",
       "      <td>17</td>\n",
       "      <td>Good</td>\n",
       "    </tr>\n",
       "    <tr>\n",
       "      <th>40808</th>\n",
       "      <td>Lawrenceville</td>\n",
       "      <td>OZONE</td>\n",
       "      <td>17</td>\n",
       "      <td>Good</td>\n",
       "    </tr>\n",
       "    <tr>\n",
       "      <th>40837</th>\n",
       "      <td>Lawrenceville</td>\n",
       "      <td>OZONE</td>\n",
       "      <td>31</td>\n",
       "      <td>Good</td>\n",
       "    </tr>\n",
       "    <tr>\n",
       "      <th>...</th>\n",
       "      <td>...</td>\n",
       "      <td>...</td>\n",
       "      <td>...</td>\n",
       "      <td>...</td>\n",
       "    </tr>\n",
       "    <tr>\n",
       "      <th>44280</th>\n",
       "      <td>Lawrenceville</td>\n",
       "      <td>PM25T</td>\n",
       "      <td>26</td>\n",
       "      <td>Good</td>\n",
       "    </tr>\n",
       "    <tr>\n",
       "      <th>44259</th>\n",
       "      <td>Lawrenceville</td>\n",
       "      <td>PM25T</td>\n",
       "      <td>22</td>\n",
       "      <td>Good</td>\n",
       "    </tr>\n",
       "    <tr>\n",
       "      <th>44251</th>\n",
       "      <td>Lawrenceville</td>\n",
       "      <td>PM25T</td>\n",
       "      <td>60</td>\n",
       "      <td>Moderate</td>\n",
       "    </tr>\n",
       "    <tr>\n",
       "      <th>44373</th>\n",
       "      <td>Lawrenceville</td>\n",
       "      <td>PM25T</td>\n",
       "      <td>58</td>\n",
       "      <td>Moderate</td>\n",
       "    </tr>\n",
       "    <tr>\n",
       "      <th>44445</th>\n",
       "      <td>Lawrenceville</td>\n",
       "      <td>PM25T</td>\n",
       "      <td>55</td>\n",
       "      <td>Moderate</td>\n",
       "    </tr>\n",
       "  </tbody>\n",
       "</table>\n",
       "<p>4748 rows × 4 columns</p>\n",
       "</div>"
      ],
      "text/plain": [
       "                site parameter  index_value description\n",
       "27482  Lawrenceville     OZONE           26        Good\n",
       "40780  Lawrenceville     OZONE           26        Good\n",
       "40795  Lawrenceville     OZONE           17        Good\n",
       "40808  Lawrenceville     OZONE           17        Good\n",
       "40837  Lawrenceville     OZONE           31        Good\n",
       "...              ...       ...          ...         ...\n",
       "44280  Lawrenceville     PM25T           26        Good\n",
       "44259  Lawrenceville     PM25T           22        Good\n",
       "44251  Lawrenceville     PM25T           60    Moderate\n",
       "44373  Lawrenceville     PM25T           58    Moderate\n",
       "44445  Lawrenceville     PM25T           55    Moderate\n",
       "\n",
       "[4748 rows x 4 columns]"
      ]
     },
     "execution_count": 75,
     "metadata": {},
     "output_type": "execute_result"
    }
   ],
   "source": [
    "# just for one specific neighborhood\n",
    "aqi_data_processed.loc[aqi_data_processed[\"site\"] == \"Lawrenceville\"].sort_values(\"parameter\")"
   ]
  },
  {
   "cell_type": "markdown",
   "metadata": {},
   "source": [
    "#### Points to Note\n",
    "\n",
    "* So for each neighborhood, different parameters are measured. We can find out the average AQI for each parameter first."
   ]
  },
  {
   "cell_type": "markdown",
   "metadata": {},
   "source": [
    "### Grouping Dataset Based on Neighborhood"
   ]
  },
  {
   "cell_type": "code",
   "execution_count": 76,
   "metadata": {},
   "outputs": [],
   "source": [
    "unique_neighborhoods = aqi_data_processed[\"site\"].unique()\n",
    "neighborhoods_data = []\n",
    "for neighborhood in unique_neighborhoods:\n",
    "    neighborhoods_data.append(aqi_data_processed.loc[aqi_data_processed[\"site\"] == neighborhood])"
   ]
  },
  {
   "cell_type": "code",
   "execution_count": 77,
   "metadata": {},
   "outputs": [
    {
     "data": {
      "text/html": [
       "<div>\n",
       "<style scoped>\n",
       "    .dataframe tbody tr th:only-of-type {\n",
       "        vertical-align: middle;\n",
       "    }\n",
       "\n",
       "    .dataframe tbody tr th {\n",
       "        vertical-align: top;\n",
       "    }\n",
       "\n",
       "    .dataframe thead th {\n",
       "        text-align: right;\n",
       "    }\n",
       "</style>\n",
       "<table border=\"1\" class=\"dataframe\">\n",
       "  <thead>\n",
       "    <tr style=\"text-align: right;\">\n",
       "      <th></th>\n",
       "      <th>index_value</th>\n",
       "    </tr>\n",
       "    <tr>\n",
       "      <th>parameter</th>\n",
       "      <th></th>\n",
       "    </tr>\n",
       "  </thead>\n",
       "  <tbody>\n",
       "    <tr>\n",
       "      <th>OZONE</th>\n",
       "      <td>35.416170</td>\n",
       "    </tr>\n",
       "    <tr>\n",
       "      <th>PM25B</th>\n",
       "      <td>42.261209</td>\n",
       "    </tr>\n",
       "    <tr>\n",
       "      <th>PM25T</th>\n",
       "      <td>40.666667</td>\n",
       "    </tr>\n",
       "  </tbody>\n",
       "</table>\n",
       "</div>"
      ],
      "text/plain": [
       "           index_value\n",
       "parameter             \n",
       "OZONE        35.416170\n",
       "PM25B        42.261209\n",
       "PM25T        40.666667"
      ]
     },
     "execution_count": 77,
     "metadata": {},
     "output_type": "execute_result"
    }
   ],
   "source": [
    "neighborhoods_data[0].groupby(\"parameter\").mean()"
   ]
  },
  {
   "cell_type": "code",
   "execution_count": 78,
   "metadata": {},
   "outputs": [
    {
     "data": {
      "text/html": [
       "<div>\n",
       "<style scoped>\n",
       "    .dataframe tbody tr th:only-of-type {\n",
       "        vertical-align: middle;\n",
       "    }\n",
       "\n",
       "    .dataframe tbody tr th {\n",
       "        vertical-align: top;\n",
       "    }\n",
       "\n",
       "    .dataframe thead th {\n",
       "        text-align: right;\n",
       "    }\n",
       "</style>\n",
       "<table border=\"1\" class=\"dataframe\">\n",
       "  <thead>\n",
       "    <tr style=\"text-align: right;\">\n",
       "      <th></th>\n",
       "      <th>index_value</th>\n",
       "    </tr>\n",
       "    <tr>\n",
       "      <th>parameter</th>\n",
       "      <th></th>\n",
       "    </tr>\n",
       "  </thead>\n",
       "  <tbody>\n",
       "    <tr>\n",
       "      <th>NO2</th>\n",
       "      <td>12.895958</td>\n",
       "    </tr>\n",
       "    <tr>\n",
       "      <th>NO2_200</th>\n",
       "      <td>10.419355</td>\n",
       "    </tr>\n",
       "    <tr>\n",
       "      <th>NO2_500</th>\n",
       "      <td>9.527473</td>\n",
       "    </tr>\n",
       "    <tr>\n",
       "      <th>OZONE</th>\n",
       "      <td>36.312277</td>\n",
       "    </tr>\n",
       "  </tbody>\n",
       "</table>\n",
       "</div>"
      ],
      "text/plain": [
       "           index_value\n",
       "parameter             \n",
       "NO2          12.895958\n",
       "NO2_200      10.419355\n",
       "NO2_500       9.527473\n",
       "OZONE        36.312277"
      ]
     },
     "execution_count": 78,
     "metadata": {},
     "output_type": "execute_result"
    }
   ],
   "source": [
    "neighborhoods_data[2].groupby(\"parameter\").mean()"
   ]
  },
  {
   "cell_type": "markdown",
   "metadata": {},
   "source": [
    "#### Concerns\n",
    "\n",
    "* Not all neighborhoods have same parameters."
   ]
  },
  {
   "cell_type": "markdown",
   "metadata": {},
   "source": [
    "### Identifying Common Parameter in All Neighborhoods Data"
   ]
  },
  {
   "cell_type": "code",
   "execution_count": 79,
   "metadata": {},
   "outputs": [
    {
     "name": "stdout",
     "output_type": "stream",
     "text": [
      "PM25B\n",
      "['Lawrenceville']\n",
      "\n",
      "CO\n",
      "['Flag Plaza' 'Parkway East' 'Lawrenceville 2' 'North Braddock']\n",
      "\n",
      "OZONE\n",
      "['Harrison Township' 'Lawrenceville' 'South Fayette']\n",
      "\n",
      "SO2\n",
      "['Avalon' 'South Fayette' 'Lawrenceville 2' 'North Braddock' 'Liberty'\n",
      " 'Clairton' 'West Mifflin']\n",
      "\n",
      "PM25\n",
      "['Lincoln']\n",
      "\n",
      "PM10\n",
      "['Lincoln' 'Flag Plaza' 'Liberty 2' 'Glassport High Street']\n",
      "\n",
      "PM10B\n",
      "['North Braddock']\n",
      "\n",
      "PM25(2)\n",
      "['Liberty 2']\n",
      "\n",
      "NO2\n",
      "['Harrison Township' 'Parkway East']\n",
      "\n",
      "PM25T\n",
      "['Parkway East' 'Avalon' 'Liberty 2' 'Lawrenceville']\n",
      "\n",
      "PM25_640\n",
      "['Pittsburgh' 'North Braddock' 'Clairton' 'Avalon' 'Parkway East'\n",
      " 'Liberty 2']\n",
      "\n",
      "PM10_640\n",
      "['Pittsburgh' 'North Braddock' 'Liberty 2']\n",
      "\n",
      "NO2_500\n",
      "['Pittsburgh' 'Harrison Township']\n",
      "\n",
      "NO2_200\n",
      "['Harrison Township']\n",
      "\n"
     ]
    }
   ],
   "source": [
    "for param in aqi_data_processed[\"parameter\"].unique():\n",
    "    print(param)\n",
    "    print(aqi_data_processed.loc[aqi_data_processed[\"parameter\"] == param, \"site\"].unique())\n",
    "    print()"
   ]
  },
  {
   "cell_type": "markdown",
   "metadata": {},
   "source": [
    "#### Points to Note\n",
    "\n",
    "* There is no common parameter in all neighborhoods.\n",
    "*  Even though it is not the most accurate option, we can average out the AQI index of different neighborhoods to identify the lowest average, and that will be the best neighborhood based on Air Quality"
   ]
  },
  {
   "cell_type": "markdown",
   "metadata": {},
   "source": [
    "### Identifying Lowest AQI Index"
   ]
  },
  {
   "cell_type": "code",
   "execution_count": 80,
   "metadata": {},
   "outputs": [
    {
     "data": {
      "text/html": [
       "<div>\n",
       "<style scoped>\n",
       "    .dataframe tbody tr th:only-of-type {\n",
       "        vertical-align: middle;\n",
       "    }\n",
       "\n",
       "    .dataframe tbody tr th {\n",
       "        vertical-align: top;\n",
       "    }\n",
       "\n",
       "    .dataframe thead th {\n",
       "        text-align: right;\n",
       "    }\n",
       "</style>\n",
       "<table border=\"1\" class=\"dataframe\">\n",
       "  <thead>\n",
       "    <tr style=\"text-align: right;\">\n",
       "      <th></th>\n",
       "      <th>index_value</th>\n",
       "    </tr>\n",
       "    <tr>\n",
       "      <th>site</th>\n",
       "      <th></th>\n",
       "    </tr>\n",
       "  </thead>\n",
       "  <tbody>\n",
       "    <tr>\n",
       "      <th>Lawrenceville 2</th>\n",
       "      <td>3.054412</td>\n",
       "    </tr>\n",
       "    <tr>\n",
       "      <th>West Mifflin</th>\n",
       "      <td>6.335548</td>\n",
       "    </tr>\n",
       "    <tr>\n",
       "      <th>Flag Plaza</th>\n",
       "      <td>9.949275</td>\n",
       "    </tr>\n",
       "    <tr>\n",
       "      <th>Glassport High Street</th>\n",
       "      <td>17.395508</td>\n",
       "    </tr>\n",
       "    <tr>\n",
       "      <th>Liberty</th>\n",
       "      <td>17.944548</td>\n",
       "    </tr>\n",
       "    <tr>\n",
       "      <th>North Braddock</th>\n",
       "      <td>18.807318</td>\n",
       "    </tr>\n",
       "    <tr>\n",
       "      <th>Parkway East</th>\n",
       "      <td>21.650542</td>\n",
       "    </tr>\n",
       "    <tr>\n",
       "      <th>South Fayette</th>\n",
       "      <td>23.854926</td>\n",
       "    </tr>\n",
       "    <tr>\n",
       "      <th>Avalon</th>\n",
       "      <td>24.238474</td>\n",
       "    </tr>\n",
       "    <tr>\n",
       "      <th>Harrison Township</th>\n",
       "      <td>24.304659</td>\n",
       "    </tr>\n",
       "    <tr>\n",
       "      <th>Pittsburgh</th>\n",
       "      <td>25.126272</td>\n",
       "    </tr>\n",
       "    <tr>\n",
       "      <th>Clairton</th>\n",
       "      <td>27.948980</td>\n",
       "    </tr>\n",
       "    <tr>\n",
       "      <th>Liberty 2</th>\n",
       "      <td>32.156047</td>\n",
       "    </tr>\n",
       "    <tr>\n",
       "      <th>Lincoln</th>\n",
       "      <td>35.108002</td>\n",
       "    </tr>\n",
       "    <tr>\n",
       "      <th>Lawrenceville</th>\n",
       "      <td>37.654802</td>\n",
       "    </tr>\n",
       "  </tbody>\n",
       "</table>\n",
       "</div>"
      ],
      "text/plain": [
       "                       index_value\n",
       "site                              \n",
       "Lawrenceville 2           3.054412\n",
       "West Mifflin              6.335548\n",
       "Flag Plaza                9.949275\n",
       "Glassport High Street    17.395508\n",
       "Liberty                  17.944548\n",
       "North Braddock           18.807318\n",
       "Parkway East             21.650542\n",
       "South Fayette            23.854926\n",
       "Avalon                   24.238474\n",
       "Harrison Township        24.304659\n",
       "Pittsburgh               25.126272\n",
       "Clairton                 27.948980\n",
       "Liberty 2                32.156047\n",
       "Lincoln                  35.108002\n",
       "Lawrenceville            37.654802"
      ]
     },
     "execution_count": 80,
     "metadata": {},
     "output_type": "execute_result"
    }
   ],
   "source": [
    "neighborhoods_avg_aqi = aqi_data_processed.groupby(\"site\").mean().sort_values(by=\"index_value\")\n",
    "neighborhoods_avg_aqi"
   ]
  },
  {
   "cell_type": "markdown",
   "metadata": {},
   "source": [
    "### Conclusion"
   ]
  },
  {
   "cell_type": "markdown",
   "metadata": {},
   "source": [
    "* According to the dataset, <b>Lawrenceville 2</b> is the best available neighborhood, while Lawrenceville is the worst available neighborhood.\n",
    "* There is no metadata available to specify these findings further.\n",
    "* Took the average of available AQI to figure out the best option. This is not favourable as this average included multiple parameters. It would've been better to identify common parameters and find the best available option among that."
   ]
  },
  {
   "cell_type": "markdown",
   "metadata": {},
   "source": [
    "### (Optional) Based on AQI Description\n",
    "\n",
    "* Find the neighborhood with most \"Good\" description."
   ]
  },
  {
   "cell_type": "code",
   "execution_count": 81,
   "metadata": {},
   "outputs": [
    {
     "data": {
      "text/html": [
       "<div>\n",
       "<style scoped>\n",
       "    .dataframe tbody tr th:only-of-type {\n",
       "        vertical-align: middle;\n",
       "    }\n",
       "\n",
       "    .dataframe tbody tr th {\n",
       "        vertical-align: top;\n",
       "    }\n",
       "\n",
       "    .dataframe thead th {\n",
       "        text-align: right;\n",
       "    }\n",
       "</style>\n",
       "<table border=\"1\" class=\"dataframe\">\n",
       "  <thead>\n",
       "    <tr style=\"text-align: right;\">\n",
       "      <th></th>\n",
       "      <th>site</th>\n",
       "      <th>parameter</th>\n",
       "      <th>index_value</th>\n",
       "      <th>description</th>\n",
       "    </tr>\n",
       "  </thead>\n",
       "  <tbody>\n",
       "    <tr>\n",
       "      <th>30572</th>\n",
       "      <td>Lawrenceville</td>\n",
       "      <td>OZONE</td>\n",
       "      <td>38</td>\n",
       "      <td>Good</td>\n",
       "    </tr>\n",
       "    <tr>\n",
       "      <th>26781</th>\n",
       "      <td>Lawrenceville</td>\n",
       "      <td>PM25B</td>\n",
       "      <td>42</td>\n",
       "      <td>Good</td>\n",
       "    </tr>\n",
       "    <tr>\n",
       "      <th>58712</th>\n",
       "      <td>Harrison Township</td>\n",
       "      <td>OZONE</td>\n",
       "      <td>44</td>\n",
       "      <td>Good</td>\n",
       "    </tr>\n",
       "    <tr>\n",
       "      <th>63712</th>\n",
       "      <td>North Braddock</td>\n",
       "      <td>PM25_640</td>\n",
       "      <td>23</td>\n",
       "      <td>Good</td>\n",
       "    </tr>\n",
       "    <tr>\n",
       "      <th>40258</th>\n",
       "      <td>Liberty 2</td>\n",
       "      <td>PM10</td>\n",
       "      <td>9</td>\n",
       "      <td>Good</td>\n",
       "    </tr>\n",
       "  </tbody>\n",
       "</table>\n",
       "</div>"
      ],
      "text/plain": [
       "                    site parameter  index_value description\n",
       "30572      Lawrenceville     OZONE           38        Good\n",
       "26781      Lawrenceville     PM25B           42        Good\n",
       "58712  Harrison Township     OZONE           44        Good\n",
       "63712     North Braddock  PM25_640           23        Good\n",
       "40258          Liberty 2      PM10            9        Good"
      ]
     },
     "execution_count": 81,
     "metadata": {},
     "output_type": "execute_result"
    }
   ],
   "source": [
    "aqi_data_processed_good = aqi_data_processed.loc[aqi_data_processed[\"description\"] == \"Good\"]\n",
    "aqi_data_processed_good.sample(5)"
   ]
  },
  {
   "cell_type": "code",
   "execution_count": 82,
   "metadata": {},
   "outputs": [
    {
     "data": {
      "text/plain": [
       "site\n",
       "Avalon                   4068\n",
       "Clairton                 1099\n",
       "Flag Plaza               3999\n",
       "Glassport High Street    3188\n",
       "Harrison Township        6126\n",
       "Lawrenceville            4042\n",
       "Lawrenceville 2          6414\n",
       "Liberty                  3058\n",
       "Liberty 2                5043\n",
       "Lincoln                  2754\n",
       "North Braddock           8176\n",
       "Parkway East             8669\n",
       "Pittsburgh               3290\n",
       "South Fayette            5103\n",
       "West Mifflin              301\n",
       "Name: description, dtype: int64"
      ]
     },
     "execution_count": 82,
     "metadata": {},
     "output_type": "execute_result"
    }
   ],
   "source": [
    "aqi_data_processed_good.groupby(\"site\")[\"description\"].count()"
   ]
  },
  {
   "cell_type": "markdown",
   "metadata": {},
   "source": [
    "* Accordingly, <b>Avalon</b> has the most number of \"Good\" description."
   ]
  },
  {
   "cell_type": "markdown",
   "metadata": {},
   "source": [
    "### Final Remarks\n",
    "\n",
    "* The Dataset used is not ideal to identify the best neighborhood in general Pittsburgh area.\n",
    "* No common parameter is available for comparison, and hence the conclusion was made by simply taking the average of existing findings.\n",
    "* (Optional) The conclusion made from the \"Optional\" section is invalid as it could also mean that Avalon had more areas compared to West Mifflin. This can be further convincing when we look at the average AQI, where West Mifflin ranks higher than Avalon by significant amount (6.3 and 24.2)."
   ]
  }
 ],
 "metadata": {
  "kernelspec": {
   "display_name": "cmpinf0010_37",
   "language": "python",
   "name": "python3"
  },
  "language_info": {
   "codemirror_mode": {
    "name": "ipython",
    "version": 3
   },
   "file_extension": ".py",
   "mimetype": "text/x-python",
   "name": "python",
   "nbconvert_exporter": "python",
   "pygments_lexer": "ipython3",
   "version": "3.7.16"
  }
 },
 "nbformat": 4,
 "nbformat_minor": 2
}
